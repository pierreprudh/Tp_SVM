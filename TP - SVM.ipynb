{
 "cells": [
  {
   "attachments": {},
   "cell_type": "markdown",
   "metadata": {},
   "source": [
    "<div style=\"background-image: linear-gradient(to right, #4b4cff , #00d4ff); text-align: center; padding: 50px;\">\n",
    "  <h1 style=\"font-family: 'Segoe UI', Tahoma, Geneva, Verdana, sans-serif; font-size: 48px; color: white; text-shadow: 2px 2px #4b4cff;\">\n",
    "    Pattern Recognition and Biometrics\n",
    "  </h1>\n",
    "</div>"
   ]
  },
  {
   "attachments": {},
   "cell_type": "markdown",
   "metadata": {},
   "source": [
    "<h1 style=\"color:white; background-color: #ADD8E6; padding:15px; text-align: center;\">\n",
    "TP SVM\n",
    "</h1>"
   ]
  },
  {
   "attachments": {},
   "cell_type": "markdown",
   "metadata": {},
   "source": [
    "<h2 style=\"color:#f7ce5b; font-family: Arial, sans-serif; font-size: 40px; margin-top: 50px; border-bottom: 2px solid #f7ce5b;\">\n",
    "Library\n",
    "</h2>"
   ]
  },
  {
   "cell_type": "code",
   "execution_count": 2,
   "metadata": {},
   "outputs": [],
   "source": [
    "from pylab import *\n",
    "import numpy as np\n",
    "import pandas as pd\n",
    "from sklearn import svm\n",
    "from sklearn.svm import SVC\n",
    "import matplotlib.pyplot as plt\n",
    "from sklearn.datasets import make_blobs\n",
    "from sklearn import metrics\n",
    "import matplotlib.pyplot as plt\n",
    "from sklearn.metrics import accuracy_score"
   ]
  },
  {
   "attachments": {},
   "cell_type": "markdown",
   "metadata": {},
   "source": [
    "<h2 style=\"color:#f7ce5b; font-family: Arial, sans-serif; font-size: 40px; margin-top: 50px; border-bottom: 2px solid #f7ce5b;\">\n",
    "Test Préliminaire\n",
    "</h2>"
   ]
  },
  {
   "cell_type": "code",
   "execution_count": 3,
   "metadata": {},
   "outputs": [
    {
     "name": "stdout",
     "output_type": "stream",
     "text": [
      "[1] [1] [0]\n",
      "[[0. 0.]\n",
      " [1. 1.]]\n",
      "[0 1]\n",
      "[1 1]\n"
     ]
    }
   ],
   "source": [
    "# Tests préliminaires de prise en main des commandes principales pour exécuter une prédiction par l’algorithme SVM sous Python :\n",
    "X = [[0, 0], [1, 1]]\n",
    "y = [0, 1]\n",
    "\n",
    "clf = svm.SVC(kernel='linear')\n",
    "clf.fit(X, y)\n",
    "\n",
    "Val_pred1=clf.predict([[2., 2.]])\n",
    "Val_pred2=clf.predict([[2., 0.]])\n",
    "Val_pred3=clf.predict([[0., 0.]])\n",
    "print(Val_pred1,Val_pred2,Val_pred3)\n",
    "\n",
    "# get support vectors\n",
    "SV=clf.support_vectors_\n",
    "print(SV)\n",
    "# get indices of support vectors\n",
    "Index_SV=clf.support_\n",
    "print(Index_SV)\n",
    "# get number of support vectors for each class\n",
    "Number_SV=clf.n_support_\n",
    "print(Number_SV)"
   ]
  },
  {
   "cell_type": "markdown",
   "metadata": {},
   "source": [
    "<h2 style=\"color:#f7ce5b; font-family: Arial, sans-serif; font-size: 40px; margin-top: 50px; border-bottom: 2px solid #f7ce5b;\">\n",
    "Données\n",
    "</h2>"
   ]
  },
  {
   "cell_type": "code",
   "execution_count": 4,
   "metadata": {},
   "outputs": [],
   "source": [
    "########### Données d'Apprentissage et de Test indépendantes pour le SVM ##########\n",
    "#------- Jeu de données n°1 --------\n",
    "#--- Apprentissage à partir de 8 exemples de dimension N=2 Feature X=(Mvt,Pouls)\n",
    "X1 = [[15, 42], [15, 45], [14, 61], [3, 70], [0, 30], [15, 10], [4, 38], [2, 42]]\n",
    "y1 = [0, 0, 0, 0, 1, 1, 1, 1]\n",
    "# Données de Test (prédiction)\n",
    "Lab_reels1 = [0, 1, 1, 1, 0]\n",
    "#X_test1=[[15., 60.], [2., 42.], [4, 39], [2, 35], [15, 41]]\n",
    "X_test1=[[15., 60.], [2., 22.], [4, 39], [0, 40], [15, 36]]\n",
    "\n",
    "\n",
    "\n",
    "#------- Jeu de données n°2 --------\n",
    "#--- Apprentissage à partir de 16 exemples de dimension N=2 Feature X=(Mvt,Pouls)\n",
    "X2 = [[15, 42], [15, 41], [14, 61], [3, 70], [13, 40], [14, 43], [11, 65], [3, 70], [0, 58], [15, 37], [4, 38], [2, 42], [2, 59], [13, 33], [5, 38], [0, 35]]\n",
    "y2 = [0, 0, 0, 0, 0, 0, 0, 0, 1, 1, 1, 1, 1, 1, 1, 1]\n",
    "# Données de Test (prédiction)\n",
    "Lab_reels2 = [0, 0, 1, 1, 1, 1, 0, 0]\n",
    "X_test2=[[15., 60.], [2., 42.], [4, 39], [2, 35], [15, 36], [14, 39], [3, 80], [3, 60]]\n",
    "\n",
    "\n",
    "\n",
    "#------- Jeu de données n°3 --------\n",
    "#--- Apprentissage à partir de 16 exemples de dimension N=3 Feature X=(Mvt,Pouls, SpO2)\n",
    "X3 = [[15, 56, 92], [15, 58, 93], [14, 61, 90], [3, 70, 89], [13, 41, 86], [14, 70, 91], [11, 65, 92], [3, 70, 90], [0, 58, 85], [15, 37, 80], [4, 38, 75], [2, 42, 84], [2, 40, 85], [13, 33, 74], [5, 38, 84], [0, 35, 80]]\n",
    "y3 = [0, 0, 0, 0, 0, 0, 0, 0, 1, 1, 1, 1, 1, 1, 1, 1]\n",
    "# Données de Test (prédiction)\n",
    "Lab_reels3 = [0, 0, 1, 1, 1, 1, 0, 0]\n",
    "X_test3=[[15., 60., 90.], [2., 42., 89.], [4., 39., 75.], [2., 35., 80.], [15., 36., 82.], [14., 39., 79.], [3., 80., 91.], [3., 60.,93.]]\n"
   ]
  },
  {
   "attachments": {},
   "cell_type": "markdown",
   "metadata": {},
   "source": [
    "<h1 style=\"color:white; background-color: #ADD8E6; padding:15px; text-align: center;\">\n",
    "JEU DE DONNES 1\n",
    "</h1>"
   ]
  },
  {
   "attachments": {},
   "cell_type": "markdown",
   "metadata": {},
   "source": [
    "<h2 style=\"color:#f7ce5b; font-family: Arial, sans-serif; font-size: 40px; margin-top: 50px; border-bottom: 2px solid #f7ce5b;\">\n",
    "Noyau Linéaire \n",
    "</h2>"
   ]
  },
  {
   "cell_type": "code",
   "execution_count": 5,
   "metadata": {},
   "outputs": [
    {
     "name": "stdout",
     "output_type": "stream",
     "text": [
      "[[15. 42.]\n",
      " [ 3. 70.]\n",
      " [ 4. 38.]]\n",
      "[0 3 6]\n",
      "[2 1]\n",
      "Erreurs Kernel Linéaire : [0 0 0 0 0]\n",
      "Taux_Reco Noyau Linéaire en % : 100.0\n",
      "Accuracy linear kernel : 1.0\n"
     ]
    }
   ],
   "source": [
    "# Changement des variables (X, y) d’entrée pour l’apprentissage (données, labels) et des données (X_test, Lab_reels)  de Test avec leur « vérité terrain » ou classe réelle (comparée ensuite avec les labels prédits par la fonction de décision). \n",
    "X=X1\n",
    "y=y1\n",
    "\n",
    "Lab_reels=Lab_reels1\n",
    "X_test=X_test1\n",
    "\n",
    "####################################\n",
    "# Noyau Linéaire\n",
    "\n",
    "# ------ Apprentissage ------\n",
    "clf = svm.SVC(kernel='linear')\n",
    "clf.fit(X, y)\n",
    "\n",
    "# ou bien : \n",
    "#linear_svc = svm.SVC(kernel='linear')\n",
    "#svm_lin=linear_svc.fit(X,y)\n",
    "\n",
    "# get support vectors\n",
    "SV=clf.support_vectors_\n",
    "print(SV)\n",
    "# get indices of support vectors\n",
    "Index_SV=clf.support_\n",
    "print(Index_SV)\n",
    "# get number of support vectors for each class\n",
    "Number_SV=clf.n_support_\n",
    "print(Number_SV)\n",
    "\n",
    "# ------ Prediction  (Test) -----\n",
    "\n",
    "Lab_pred_lin=clf.predict(X_test)\n",
    "\n",
    "# ou bien :\n",
    "#Lab_pred_lin=svm_lin.predict(X_test)\n",
    "\n",
    "delta_Lab=Lab_pred_lin - Lab_reels\n",
    "print('Erreurs Kernel Linéaire :',delta_Lab)\n",
    "Nb_erreurs=sum(abs(delta_Lab))\n",
    "Taux_erreurs=Nb_erreurs/size(Lab_reels)\n",
    "Taux_Reco=(1-Taux_erreurs)*100\n",
    "print('Taux_Reco Noyau Linéaire en % :',Taux_Reco)\n",
    "\n",
    "print(\"Accuracy linear kernel :\",metrics.accuracy_score(Lab_reels, Lab_pred_lin))"
   ]
  },
  {
   "attachments": {},
   "cell_type": "markdown",
   "metadata": {},
   "source": [
    "<h2 style=\"color:#f7ce5b; font-family: Arial, sans-serif; font-size: 40px; margin-top: 50px; border-bottom: 2px solid #f7ce5b;\">\n",
    "Noyau Polynomial\n",
    "</h2>"
   ]
  },
  {
   "cell_type": "code",
   "execution_count": 6,
   "metadata": {},
   "outputs": [
    {
     "name": "stdout",
     "output_type": "stream",
     "text": [
      "[[15. 42.]\n",
      " [ 4. 38.]\n",
      " [ 2. 42.]]\n",
      "[0 6 7]\n",
      "[1 2]\n",
      "Erreurs Kernel Linéaire : [0 0 0 0 0]\n",
      "Taux_Reco Noyau Linéaire en % : 100.0\n",
      "Accuracy linear kernel : 1.0\n"
     ]
    }
   ],
   "source": [
    "# Changement des variables (X, y) d’entrée pour l’apprentissage (données, labels) et des données (X_test, Lab_reels)  de Test avec leur « vérité terrain » ou classe réelle (comparée ensuite avec les labels prédits par la fonction de décision). \n",
    "X=X1\n",
    "y=y1\n",
    "\n",
    "Lab_reels=Lab_reels1\n",
    "X_test=X_test1\n",
    "\n",
    "####################################\n",
    "# Noyau Linéaire\n",
    "\n",
    "# ------ Apprentissage ------\n",
    "clf = svm.SVC(kernel='poly')\n",
    "clf.fit(X, y)\n",
    "\n",
    "# ou bien : \n",
    "#linear_svc = svm.SVC(kernel='linear')\n",
    "#svm_lin=linear_svc.fit(X,y)\n",
    "\n",
    "# get support vectors\n",
    "SV=clf.support_vectors_\n",
    "print(SV)\n",
    "# get indices of support vectors\n",
    "Index_SV=clf.support_\n",
    "print(Index_SV)\n",
    "# get number of support vectors for each class\n",
    "Number_SV=clf.n_support_\n",
    "print(Number_SV)\n",
    "\n",
    "# ------ Prediction  (Test) -----\n",
    "\n",
    "Lab_pred_lin=clf.predict(X_test)\n",
    "\n",
    "# ou bien :\n",
    "#Lab_pred_lin=svm_lin.predict(X_test)\n",
    "\n",
    "delta_Lab=Lab_pred_lin - Lab_reels\n",
    "print('Erreurs Kernel Linéaire :',delta_Lab)\n",
    "Nb_erreurs=sum(abs(delta_Lab))\n",
    "Taux_erreurs=Nb_erreurs/size(Lab_reels)\n",
    "Taux_Reco=(1-Taux_erreurs)*100\n",
    "print('Taux_Reco Noyau Linéaire en % :',Taux_Reco)\n",
    "\n",
    "print(\"Accuracy linear kernel :\",metrics.accuracy_score(Lab_reels, Lab_pred_lin))"
   ]
  },
  {
   "attachments": {},
   "cell_type": "markdown",
   "metadata": {},
   "source": [
    "<h2 style=\"color:#f7ce5b; font-family: Arial, sans-serif; font-size: 40px; margin-top: 50px; border-bottom: 2px solid #f7ce5b;\">\n",
    "Noyau RBF\n",
    "</h2>"
   ]
  },
  {
   "cell_type": "code",
   "execution_count": 7,
   "metadata": {},
   "outputs": [
    {
     "name": "stdout",
     "output_type": "stream",
     "text": [
      "[[15. 42.]\n",
      " [15. 45.]\n",
      " [14. 61.]\n",
      " [ 3. 70.]\n",
      " [ 0. 30.]\n",
      " [15. 10.]\n",
      " [ 4. 38.]\n",
      " [ 2. 42.]]\n",
      "[0 1 2 3 4 5 6 7]\n",
      "[4 4]\n",
      "Erreurs Kernel Linéaire : [0 0 0 0 1]\n",
      "Taux_Reco Noyau Linéaire en % : 80.0\n",
      "Accuracy linear kernel : 0.8\n"
     ]
    }
   ],
   "source": [
    "# Changement des variables (X, y) d’entrée pour l’apprentissage (données, labels) et des données (X_test, Lab_reels)  de Test avec leur « vérité terrain » ou classe réelle (comparée ensuite avec les labels prédits par la fonction de décision). \n",
    "X=X1\n",
    "y=y1\n",
    "\n",
    "Lab_reels=Lab_reels1\n",
    "X_test=X_test1\n",
    "\n",
    "####################################\n",
    "# Noyau Linéaire\n",
    "\n",
    "# ------ Apprentissage ------\n",
    "clf = svm.SVC(kernel='rbf')\n",
    "clf.fit(X, y)\n",
    "\n",
    "# ou bien : \n",
    "#linear_svc = svm.SVC(kernel='linear')\n",
    "#svm_lin=linear_svc.fit(X,y)\n",
    "\n",
    "# get support vectors\n",
    "SV=clf.support_vectors_\n",
    "print(SV)\n",
    "# get indices of support vectors\n",
    "Index_SV=clf.support_\n",
    "print(Index_SV)\n",
    "# get number of support vectors for each class\n",
    "Number_SV=clf.n_support_\n",
    "print(Number_SV)\n",
    "\n",
    "# ------ Prediction  (Test) -----\n",
    "\n",
    "Lab_pred_lin=clf.predict(X_test)\n",
    "\n",
    "# ou bien :\n",
    "#Lab_pred_lin=svm_lin.predict(X_test)\n",
    "\n",
    "delta_Lab=Lab_pred_lin - Lab_reels\n",
    "print('Erreurs Kernel Linéaire :',delta_Lab)\n",
    "Nb_erreurs=sum(abs(delta_Lab))\n",
    "Taux_erreurs=Nb_erreurs/size(Lab_reels)\n",
    "Taux_Reco=(1-Taux_erreurs)*100\n",
    "print('Taux_Reco Noyau Linéaire en % :',Taux_Reco)\n",
    "\n",
    "print(\"Accuracy linear kernel :\",metrics.accuracy_score(Lab_reels, Lab_pred_lin))"
   ]
  },
  {
   "cell_type": "code",
   "execution_count": 20,
   "metadata": {},
   "outputs": [
    {
     "name": "stderr",
     "output_type": "stream",
     "text": [
      "C:\\Users\\pierr\\AppData\\Local\\Temp/ipykernel_7336/221401921.py:34: UserWarning: No contour levels were found within the data range.\n",
      "  plt.contour(xx, yy, Z, levels=[-1, 0, 1], linestyles=['--', '-', '--'], colors='k', alpha=0.5)\n"
     ]
    },
    {
     "data": {
      "image/png": "[encoded data removed]",
      "text/plain": [
       "<Figure size 432x288 with 1 Axes>"
      ]
     },
     "metadata": {
      "needs_background": "light"
     },
     "output_type": "display_data"
    },
    {
     "name": "stderr",
     "output_type": "stream",
     "text": [
      "C:\\Users\\pierr\\AppData\\Local\\Temp/ipykernel_7336/221401921.py:34: UserWarning: No contour levels were found within the data range.\n",
      "  plt.contour(xx, yy, Z, levels=[-1, 0, 1], linestyles=['--', '-', '--'], colors='k', alpha=0.5)\n"
     ]
    },
    {
     "data": {
      "image/png": "[encoded data removed]",
      "text/plain": [
       "<Figure size 432x288 with 1 Axes>"
      ]
     },
     "metadata": {
      "needs_background": "light"
     },
     "output_type": "display_data"
    },
    {
     "name": "stderr",
     "output_type": "stream",
     "text": [
      "C:\\Users\\pierr\\AppData\\Local\\Temp/ipykernel_7336/221401921.py:34: UserWarning: No contour levels were found within the data range.\n",
      "  plt.contour(xx, yy, Z, levels=[-1, 0, 1], linestyles=['--', '-', '--'], colors='k', alpha=0.5)\n"
     ]
    },
    {
     "data": {
      "image/png": "[encoded data removed]",
      "text/plain": [
       "<Figure size 432x288 with 1 Axes>"
      ]
     },
     "metadata": {
      "needs_background": "light"
     },
     "output_type": "display_data"
    }
   ],
   "source": [
    "# Données d'apprentissage\n",
    "X_train = np.array([[15, 42], [15, 45], [14, 61], [3, 70], [0, 30], [15, 10], [4, 38], [2, 42]])\n",
    "y_train = np.array([0, 0, 0, 0, 1, 1, 1, 1])\n",
    "\n",
    "# Données de test\n",
    "X_test = np.array([[15., 60.], [2., 22.], [4, 39], [0, 40], [15, 36]])\n",
    "y_test = np.array([0, 1, 1, 1, 0])\n",
    "\n",
    "# Définition des modèles avec différents noyaux\n",
    "models = [\n",
    "    svm.SVC(kernel='linear'),\n",
    "    svm.SVC(kernel='rbf', gamma=1),\n",
    "    svm.SVC(kernel='poly', degree=3)\n",
    "]\n",
    "\n",
    "# Entrainement et prédiction avec chaque modèle\n",
    "for model in models:\n",
    "    model.fit(X_train, y_train)\n",
    "    y_pred_train = model.predict(X_train)\n",
    "    y_pred_test = model.predict(X_test)\n",
    "    train_accuracy = accuracy_score(y_train, y_pred_train)\n",
    "    test_accuracy = accuracy_score(y_test, y_pred_test)\n",
    "    \n",
    "    # Tracé de la frontière de décision\n",
    "    plt.figure()\n",
    "    plt.scatter(X_train[:, 0], X_train[:, 1], c=y_train, cmap=plt.cm.Paired, edgecolors='k')\n",
    "    plt.scatter(X_test[:, 0], X_test[:, 1], c=y_test, cmap=plt.cm.Paired, marker='x', s=200, linewidths=3, zorder=10)\n",
    "    ax = plt.gca()\n",
    "    xlim = ax.get_xlim()\n",
    "    ylim = ax.get_ylim()\n",
    "    xx, yy = np.meshgrid(np.linspace(xlim[0], xlim[1], 200), np.linspace(ylim[0], ylim[1], 200))\n",
    "    Z = model.predict(np.c_[xx.ravel(), yy.ravel()])\n",
    "    Z = Z.reshape(xx.shape)\n",
    "    plt.contour(xx, yy, Z, levels=[-1, 0, 1], linestyles=['--', '-', '--'], colors='k', alpha=0.5)\n",
    "    plt.title(f\"Kernel: {model.kernel}\\nTrain Accuracy: {train_accuracy:.2f}, Test Accuracy: {test_accuracy:.2f}\")\n",
    "    plt.show()"
   ]
  },
  {
   "attachments": {},
   "cell_type": "markdown",
   "metadata": {},
   "source": [
    "<h1 style=\"color:white; background-color: #ADD8E6; padding:15px; text-align: center;\">\n",
    "JEU DE DONNES 2\n",
    "</h1>"
   ]
  },
  {
   "attachments": {},
   "cell_type": "markdown",
   "metadata": {},
   "source": [
    "<h2 style=\"color:#f7ce5b; font-family: Arial, sans-serif; font-size: 40px; margin-top: 50px; border-bottom: 2px solid #f7ce5b;\">\n",
    "Noyau Linéaire \n",
    "</h2>"
   ]
  },
  {
   "cell_type": "code",
   "execution_count": 9,
   "metadata": {},
   "outputs": [
    {
     "name": "stdout",
     "output_type": "stream",
     "text": [
      "[[13. 40.]\n",
      " [14. 43.]\n",
      " [15. 37.]\n",
      " [ 2. 59.]\n",
      " [13. 33.]]\n",
      "[ 4  5  9 12 13]\n",
      "[2 3]\n",
      "Erreurs Kernel Linéaire : [ 0  1  0  0 -1 -1  0  1]\n",
      "Taux_Reco Noyau Linéaire en % : 50.0\n",
      "Accuracy linear kernel : 0.5\n"
     ]
    }
   ],
   "source": [
    "# Changement des variables (X, y) d’entrée pour l’apprentissage (données, labels) et des données (X_test, Lab_reels)  de Test avec leur « vérité terrain » ou classe réelle (comparée ensuite avec les labels prédits par la fonction de décision). \n",
    "X=X2\n",
    "y=y2\n",
    "\n",
    "Lab_reels=Lab_reels2\n",
    "X_test=X_test2\n",
    "\n",
    "####################################\n",
    "# Noyau Linéaire\n",
    "\n",
    "# ------ Apprentissage ------\n",
    "clf = svm.SVC(kernel='linear')\n",
    "clf.fit(X, y)\n",
    "\n",
    "# ou bien : \n",
    "#linear_svc = svm.SVC(kernel='linear')\n",
    "#svm_lin=linear_svc.fit(X,y)\n",
    "\n",
    "# get support vectors\n",
    "SV=clf.support_vectors_\n",
    "print(SV)\n",
    "# get indices of support vectors\n",
    "Index_SV=clf.support_\n",
    "print(Index_SV)\n",
    "# get number of support vectors for each class\n",
    "Number_SV=clf.n_support_\n",
    "print(Number_SV)\n",
    "\n",
    "# ------ Prediction  (Test) -----\n",
    "\n",
    "Lab_pred_lin=clf.predict(X_test)\n",
    "\n",
    "# ou bien :\n",
    "#Lab_pred_lin=svm_lin.predict(X_test)\n",
    "\n",
    "delta_Lab=Lab_pred_lin - Lab_reels\n",
    "print('Erreurs Kernel Linéaire :',delta_Lab)\n",
    "Nb_erreurs=sum(abs(delta_Lab))\n",
    "Taux_erreurs=Nb_erreurs/size(Lab_reels)\n",
    "Taux_Reco=(1-Taux_erreurs)*100\n",
    "print('Taux_Reco Noyau Linéaire en % :',Taux_Reco)\n",
    "\n",
    "print(\"Accuracy linear kernel :\",metrics.accuracy_score(Lab_reels, Lab_pred_lin))"
   ]
  },
  {
   "attachments": {},
   "cell_type": "markdown",
   "metadata": {},
   "source": [
    "<h2 style=\"color:#f7ce5b; font-family: Arial, sans-serif; font-size: 40px; margin-top: 50px; border-bottom: 2px solid #f7ce5b;\">\n",
    "Noyau Polynomial\n",
    "</h2>"
   ]
  },
  {
   "cell_type": "code",
   "execution_count": 10,
   "metadata": {},
   "outputs": [
    {
     "name": "stdout",
     "output_type": "stream",
     "text": [
      "[[15. 41.]\n",
      " [13. 40.]\n",
      " [14. 43.]\n",
      " [ 3. 70.]\n",
      " [15. 37.]\n",
      " [ 2. 59.]\n",
      " [13. 33.]\n",
      " [ 5. 38.]]\n",
      "[ 1  4  5  7  9 12 13 14]\n",
      "[4 4]\n",
      "Erreurs Kernel Linéaire : [ 0  1  0  0 -1 -1  0  0]\n",
      "Taux_Reco Noyau Linéaire en % : 62.5\n",
      "Accuracy linear kernel : 0.625\n"
     ]
    }
   ],
   "source": [
    "# Changement des variables (X, y) d’entrée pour l’apprentissage (données, labels) et des données (X_test, Lab_reels)  de Test avec leur « vérité terrain » ou classe réelle (comparée ensuite avec les labels prédits par la fonction de décision). \n",
    "X=X2\n",
    "y=y2\n",
    "\n",
    "Lab_reels=Lab_reels2\n",
    "X_test=X_test2\n",
    "\n",
    "####################################\n",
    "# Noyau Linéaire\n",
    "\n",
    "# ------ Apprentissage ------\n",
    "clf = svm.SVC(kernel='poly')\n",
    "clf.fit(X, y)\n",
    "\n",
    "# ou bien : \n",
    "#linear_svc = svm.SVC(kernel='linear')\n",
    "#svm_lin=linear_svc.fit(X,y)\n",
    "\n",
    "# get support vectors\n",
    "SV=clf.support_vectors_\n",
    "print(SV)\n",
    "# get indices of support vectors\n",
    "Index_SV=clf.support_\n",
    "print(Index_SV)\n",
    "# get number of support vectors for each class\n",
    "Number_SV=clf.n_support_\n",
    "print(Number_SV)\n",
    "\n",
    "# ------ Prediction  (Test) -----\n",
    "\n",
    "Lab_pred_lin=clf.predict(X_test)\n",
    "\n",
    "# ou bien :\n",
    "#Lab_pred_lin=svm_lin.predict(X_test)\n",
    "\n",
    "delta_Lab=Lab_pred_lin - Lab_reels\n",
    "print('Erreurs Kernel Linéaire :',delta_Lab)\n",
    "Nb_erreurs=sum(abs(delta_Lab))\n",
    "Taux_erreurs=Nb_erreurs/size(Lab_reels)\n",
    "Taux_Reco=(1-Taux_erreurs)*100\n",
    "print('Taux_Reco Noyau Linéaire en % :',Taux_Reco)\n",
    "\n",
    "print(\"Accuracy linear kernel :\",metrics.accuracy_score(Lab_reels, Lab_pred_lin))"
   ]
  },
  {
   "cell_type": "markdown",
   "metadata": {},
   "source": [
    "<h2 style=\"color:#f7ce5b; font-family: Arial, sans-serif; font-size: 40px; margin-top: 50px; border-bottom: 2px solid #f7ce5b;\">\n",
    "Noyau RBF\n",
    "</h2>"
   ]
  },
  {
   "cell_type": "code",
   "execution_count": 11,
   "metadata": {},
   "outputs": [
    {
     "name": "stdout",
     "output_type": "stream",
     "text": [
      "[[15. 42.]\n",
      " [15. 41.]\n",
      " [14. 61.]\n",
      " [ 3. 70.]\n",
      " [13. 40.]\n",
      " [14. 43.]\n",
      " [ 3. 70.]\n",
      " [ 0. 58.]\n",
      " [15. 37.]\n",
      " [ 4. 38.]\n",
      " [ 2. 42.]\n",
      " [ 2. 59.]\n",
      " [13. 33.]\n",
      " [ 5. 38.]]\n",
      "[ 0  1  2  3  4  5  7  8  9 10 11 12 13 14]\n",
      "[7 7]\n",
      "Erreurs Kernel Linéaire : [0 1 0 0 0 0 0 0]\n",
      "Taux_Reco Noyau Linéaire en % : 87.5\n",
      "Accuracy linear kernel : 0.875\n"
     ]
    }
   ],
   "source": [
    "# Changement des variables (X, y) d’entrée pour l’apprentissage (données, labels) et des données (X_test, Lab_reels)  de Test avec leur « vérité terrain » ou classe réelle (comparée ensuite avec les labels prédits par la fonction de décision). \n",
    "X=X2\n",
    "y=y2\n",
    "\n",
    "Lab_reels=Lab_reels2\n",
    "X_test=X_test2\n",
    "\n",
    "####################################\n",
    "# Noyau Linéaire\n",
    "\n",
    "# ------ Apprentissage ------\n",
    "clf = svm.SVC(kernel='rbf')\n",
    "clf.fit(X, y)\n",
    "\n",
    "# ou bien : \n",
    "#linear_svc = svm.SVC(kernel='linear')\n",
    "#svm_lin=linear_svc.fit(X,y)\n",
    "\n",
    "# get support vectors\n",
    "SV=clf.support_vectors_\n",
    "print(SV)\n",
    "# get indices of support vectors\n",
    "Index_SV=clf.support_\n",
    "print(Index_SV)\n",
    "# get number of support vectors for each class\n",
    "Number_SV=clf.n_support_\n",
    "print(Number_SV)\n",
    "\n",
    "# ------ Prediction  (Test) -----\n",
    "\n",
    "Lab_pred_lin=clf.predict(X_test)\n",
    "\n",
    "# ou bien :\n",
    "#Lab_pred_lin=svm_lin.predict(X_test)\n",
    "\n",
    "delta_Lab=Lab_pred_lin - Lab_reels\n",
    "print('Erreurs Kernel Linéaire :',delta_Lab)\n",
    "Nb_erreurs=sum(abs(delta_Lab))\n",
    "Taux_erreurs=Nb_erreurs/size(Lab_reels)\n",
    "Taux_Reco=(1-Taux_erreurs)*100\n",
    "print('Taux_Reco Noyau Linéaire en % :',Taux_Reco)\n",
    "\n",
    "print(\"Accuracy linear kernel :\",metrics.accuracy_score(Lab_reels, Lab_pred_lin))"
   ]
  },
  {
   "cell_type": "code",
   "execution_count": 12,
   "metadata": {},
   "outputs": [
    {
     "name": "stderr",
     "output_type": "stream",
     "text": [
      "C:\\Users\\pierr\\AppData\\Local\\Temp/ipykernel_7336/438834391.py:34: UserWarning: No contour levels were found within the data range.\n",
      "  plt.contour(xx, yy, Z, levels=[-1, 0, 1], linestyles=['--', '-', '--'], colors='k', alpha=0.5)\n"
     ]
    },
    {
     "data": {
      "image/png": "[encoded data removed]",
      "text/plain": [
       "<Figure size 432x288 with 1 Axes>"
      ]
     },
     "metadata": {
      "needs_background": "light"
     },
     "output_type": "display_data"
    },
    {
     "name": "stderr",
     "output_type": "stream",
     "text": [
      "C:\\Users\\pierr\\AppData\\Local\\Temp/ipykernel_7336/438834391.py:34: UserWarning: No contour levels were found within the data range.\n",
      "  plt.contour(xx, yy, Z, levels=[-1, 0, 1], linestyles=['--', '-', '--'], colors='k', alpha=0.5)\n"
     ]
    },
    {
     "data": {
      "image/png": "[encoded data removed]",
      "text/plain": [
       "<Figure size 432x288 with 1 Axes>"
      ]
     },
     "metadata": {
      "needs_background": "light"
     },
     "output_type": "display_data"
    },
    {
     "name": "stderr",
     "output_type": "stream",
     "text": [
      "C:\\Users\\pierr\\AppData\\Local\\Temp/ipykernel_7336/438834391.py:34: UserWarning: No contour levels were found within the data range.\n",
      "  plt.contour(xx, yy, Z, levels=[-1, 0, 1], linestyles=['--', '-', '--'], colors='k', alpha=0.5)\n"
     ]
    },
    {
     "data": {
      "image/png": "[encoded data removed]",
      "text/plain": [
       "<Figure size 432x288 with 1 Axes>"
      ]
     },
     "metadata": {
      "needs_background": "light"
     },
     "output_type": "display_data"
    }
   ],
   "source": [
    "# Données d'apprentissage\n",
    "X_train = np.array([[15, 42], [15, 41], [14, 61], [3, 70], [13, 40], [14, 43], [11, 65], [3, 70], [0, 58], [15, 37], [4, 38], [2, 42], [2, 59], [13, 33], [5, 38], [0, 35]])\n",
    "y_train = np.array([0, 0, 0, 0, 0, 0, 0, 0, 1, 1, 1, 1, 1, 1, 1, 1])\n",
    "\n",
    "# Données de test\n",
    "X_test = np.array([[15, 60], [2, 42], [4, 39], [2, 35], [15, 36], [14, 39], [3, 80], [3, 60]])\n",
    "y_test = np.array([0, 0, 1, 1, 1, 1, 0, 0])\n",
    "\n",
    "# Définition des modèles avec différents noyaux\n",
    "models = [\n",
    "    svm.SVC(kernel='linear'),\n",
    "    svm.SVC(kernel='rbf', gamma=1),\n",
    "    svm.SVC(kernel='poly', degree=3)\n",
    "]\n",
    "\n",
    "# Entrainement et prédiction avec chaque modèle\n",
    "for model in models:\n",
    "    model.fit(X_train, y_train)\n",
    "    y_pred_train = model.predict(X_train)\n",
    "    y_pred_test = model.predict(X_test)\n",
    "    train_accuracy = accuracy_score(y_train, y_pred_train)\n",
    "    test_accuracy = accuracy_score(y_test, y_pred_test)\n",
    "    \n",
    "    # Tracé de la frontière de décision\n",
    "    plt.figure()\n",
    "    plt.scatter(X_train[:, 0], X_train[:, 1], c=y_train, cmap=plt.cm.Paired, edgecolors='k')\n",
    "    plt.scatter(X_test[:, 0], X_test[:, 1], c=y_test, cmap=plt.cm.Paired, marker='x', s=200, linewidths=3, zorder=10)\n",
    "    ax = plt.gca()\n",
    "    xlim = ax.get_xlim()\n",
    "    ylim = ax.get_ylim()\n",
    "    xx, yy = np.meshgrid(np.linspace(xlim[0], xlim[1], 200), np.linspace(ylim[0], ylim[1], 200))\n",
    "    Z = model.predict(np.c_[xx.ravel(), yy.ravel()])\n",
    "    Z = Z.reshape(xx.shape)\n",
    "    plt.contour(xx, yy, Z, levels=[-1, 0, 1], linestyles=['--', '-', '--'], colors='k', alpha=0.5)\n",
    "    plt.title(f\"Kernel: {model.kernel}\\nTrain Accuracy: {train_accuracy:.2f}, Test Accuracy: {test_accuracy:.2f}\")\n",
    "    plt.show()"
   ]
  },
  {
   "attachments": {},
   "cell_type": "markdown",
   "metadata": {},
   "source": [
    "<h1 style=\"color:white; background-color: #ADD8E6; padding:15px; text-align: center;\">\n",
    "JEU DE DONNES 3\n",
    "</h1>"
   ]
  },
  {
   "attachments": {},
   "cell_type": "markdown",
   "metadata": {},
   "source": [
    "<h2 style=\"color:#f7ce5b; font-family: Arial, sans-serif; font-size: 40px; margin-top: 50px; border-bottom: 2px solid #f7ce5b;\">\n",
    "Noyau Linéaire \n",
    "</h2>"
   ]
  },
  {
   "cell_type": "code",
   "execution_count": 13,
   "metadata": {},
   "outputs": [
    {
     "name": "stdout",
     "output_type": "stream",
     "text": [
      "[[13. 41. 86.]\n",
      " [ 0. 58. 85.]\n",
      " [15. 37. 80.]\n",
      " [ 5. 38. 84.]]\n",
      "[ 4  8  9 14]\n",
      "[1 3]\n",
      "Erreurs Kernel Linéaire : [0 0 0 0 0 0 0 0]\n",
      "Taux_Reco Noyau Linéaire en % : 100.0\n",
      "Accuracy linear kernel : 1.0\n"
     ]
    }
   ],
   "source": [
    "# Changement des variables (X, y) d’entrée pour l’apprentissage (données, labels) et des données (X_test, Lab_reels)  de Test avec leur « vérité terrain » ou classe réelle (comparée ensuite avec les labels prédits par la fonction de décision). \n",
    "X=X3\n",
    "y=y3\n",
    "\n",
    "Lab_reels=Lab_reels3\n",
    "X_test=X_test3\n",
    "\n",
    "####################################\n",
    "# Noyau Linéaire\n",
    "\n",
    "# ------ Apprentissage ------\n",
    "clf = svm.SVC(kernel='linear')\n",
    "clf.fit(X, y)\n",
    "\n",
    "# ou bien : \n",
    "#linear_svc = svm.SVC(kernel='linear')\n",
    "#svm_lin=linear_svc.fit(X,y)\n",
    "\n",
    "# get support vectors\n",
    "SV=clf.support_vectors_\n",
    "print(SV)\n",
    "# get indices of support vectors\n",
    "Index_SV=clf.support_\n",
    "print(Index_SV)\n",
    "# get number of support vectors for each class\n",
    "Number_SV=clf.n_support_\n",
    "print(Number_SV)\n",
    "\n",
    "# ------ Prediction  (Test) -----\n",
    "\n",
    "Lab_pred_lin=clf.predict(X_test)\n",
    "\n",
    "# ou bien :\n",
    "#Lab_pred_lin=svm_lin.predict(X_test)\n",
    "\n",
    "delta_Lab=Lab_pred_lin - Lab_reels\n",
    "print('Erreurs Kernel Linéaire :',delta_Lab)\n",
    "Nb_erreurs=sum(abs(delta_Lab))\n",
    "Taux_erreurs=Nb_erreurs/size(Lab_reels)\n",
    "Taux_Reco=(1-Taux_erreurs)*100\n",
    "print('Taux_Reco Noyau Linéaire en % :',Taux_Reco)\n",
    "\n",
    "print(\"Accuracy linear kernel :\",metrics.accuracy_score(Lab_reels, Lab_pred_lin))"
   ]
  },
  {
   "attachments": {},
   "cell_type": "markdown",
   "metadata": {},
   "source": [
    "<h2 style=\"color:#f7ce5b; font-family: Arial, sans-serif; font-size: 40px; margin-top: 50px; border-bottom: 2px solid #f7ce5b;\">\n",
    "Noyau Polynomial\n",
    "</h2>"
   ]
  },
  {
   "cell_type": "code",
   "execution_count": 14,
   "metadata": {},
   "outputs": [
    {
     "name": "stdout",
     "output_type": "stream",
     "text": [
      "[[ 3. 70. 89.]\n",
      " [13. 41. 86.]\n",
      " [ 0. 58. 85.]\n",
      " [15. 37. 80.]]\n",
      "[3 4 8 9]\n",
      "[2 2]\n",
      "Erreurs Kernel Linéaire : [0 1 0 0 0 0 0 0]\n",
      "Taux_Reco Noyau Linéaire en % : 87.5\n",
      "Accuracy linear kernel : 0.875\n"
     ]
    }
   ],
   "source": [
    "# Changement des variables (X, y) d’entrée pour l’apprentissage (données, labels) et des données (X_test, Lab_reels)  de Test avec leur « vérité terrain » ou classe réelle (comparée ensuite avec les labels prédits par la fonction de décision). \n",
    "X=X3\n",
    "y=y3\n",
    "\n",
    "Lab_reels=Lab_reels3\n",
    "X_test=X_test3\n",
    "\n",
    "####################################\n",
    "# Noyau Linéaire\n",
    "\n",
    "# ------ Apprentissage ------\n",
    "clf = svm.SVC(kernel='poly')\n",
    "clf.fit(X, y)\n",
    "\n",
    "# ou bien : \n",
    "#linear_svc = svm.SVC(kernel='linear')\n",
    "#svm_lin=linear_svc.fit(X,y)\n",
    "\n",
    "# get support vectors\n",
    "SV=clf.support_vectors_\n",
    "print(SV)\n",
    "# get indices of support vectors\n",
    "Index_SV=clf.support_\n",
    "print(Index_SV)\n",
    "# get number of support vectors for each class\n",
    "Number_SV=clf.n_support_\n",
    "print(Number_SV)\n",
    "\n",
    "# ------ Prediction  (Test) -----\n",
    "\n",
    "Lab_pred_lin=clf.predict(X_test)\n",
    "\n",
    "# ou bien :\n",
    "#Lab_pred_lin=svm_lin.predict(X_test)\n",
    "\n",
    "delta_Lab=Lab_pred_lin - Lab_reels\n",
    "print('Erreurs Kernel Linéaire :',delta_Lab)\n",
    "Nb_erreurs=sum(abs(delta_Lab))\n",
    "Taux_erreurs=Nb_erreurs/size(Lab_reels)\n",
    "Taux_Reco=(1-Taux_erreurs)*100\n",
    "print('Taux_Reco Noyau Linéaire en % :',Taux_Reco)\n",
    "\n",
    "print(\"Accuracy linear kernel :\",metrics.accuracy_score(Lab_reels, Lab_pred_lin))"
   ]
  },
  {
   "attachments": {},
   "cell_type": "markdown",
   "metadata": {},
   "source": [
    "<h2 style=\"color:#f7ce5b; font-family: Arial, sans-serif; font-size: 40px; margin-top: 50px; border-bottom: 2px solid #f7ce5b;\">\n",
    "Noyau RBF\n",
    "</h2>"
   ]
  },
  {
   "cell_type": "code",
   "execution_count": 15,
   "metadata": {},
   "outputs": [
    {
     "name": "stdout",
     "output_type": "stream",
     "text": [
      "[[15. 56. 92.]\n",
      " [15. 58. 93.]\n",
      " [14. 61. 90.]\n",
      " [ 3. 70. 89.]\n",
      " [13. 41. 86.]\n",
      " [11. 65. 92.]\n",
      " [ 3. 70. 90.]\n",
      " [ 0. 58. 85.]\n",
      " [15. 37. 80.]\n",
      " [ 4. 38. 75.]\n",
      " [ 2. 42. 84.]\n",
      " [ 2. 40. 85.]\n",
      " [ 5. 38. 84.]]\n",
      "[ 0  1  2  3  4  6  7  8  9 10 11 12 14]\n",
      "[7 6]\n",
      "Erreurs Kernel Linéaire : [0 1 0 0 0 0 0 0]\n",
      "Taux_Reco Noyau Linéaire en % : 87.5\n",
      "Accuracy linear kernel : 0.875\n"
     ]
    }
   ],
   "source": [
    "# Changement des variables (X, y) d’entrée pour l’apprentissage (données, labels) et des données (X_test, Lab_reels)  de Test avec leur « vérité terrain » ou classe réelle (comparée ensuite avec les labels prédits par la fonction de décision). \n",
    "X=X3\n",
    "y=y3\n",
    "\n",
    "Lab_reels=Lab_reels3\n",
    "X_test=X_test3\n",
    "\n",
    "####################################\n",
    "# Noyau Linéaire\n",
    "\n",
    "# ------ Apprentissage ------\n",
    "clf = svm.SVC(kernel='rbf')\n",
    "clf.fit(X, y)\n",
    "\n",
    "# ou bien : \n",
    "#linear_svc = svm.SVC(kernel='linear')\n",
    "#svm_lin=linear_svc.fit(X,y)\n",
    "\n",
    "# get support vectors\n",
    "SV=clf.support_vectors_\n",
    "print(SV)\n",
    "# get indices of support vectors\n",
    "Index_SV=clf.support_\n",
    "print(Index_SV)\n",
    "# get number of support vectors for each class\n",
    "Number_SV=clf.n_support_\n",
    "print(Number_SV)\n",
    "\n",
    "# ------ Prediction  (Test) -----\n",
    "\n",
    "Lab_pred_lin=clf.predict(X_test)\n",
    "\n",
    "# ou bien :\n",
    "#Lab_pred_lin=svm_lin.predict(X_test)\n",
    "\n",
    "delta_Lab=Lab_pred_lin - Lab_reels\n",
    "print('Erreurs Kernel Linéaire :',delta_Lab)\n",
    "Nb_erreurs=sum(abs(delta_Lab))\n",
    "Taux_erreurs=Nb_erreurs/size(Lab_reels)\n",
    "Taux_Reco=(1-Taux_erreurs)*100\n",
    "print('Taux_Reco Noyau Linéaire en % :',Taux_Reco)\n",
    "\n",
    "print(\"Accuracy linear kernel :\",metrics.accuracy_score(Lab_reels, Lab_pred_lin))"
   ]
  },
  {
   "attachments": {},
   "cell_type": "markdown",
   "metadata": {},
   "source": [
    "<h1 style=\"color:white; background-color: #ADD8E6; padding:15px; text-align: center;\">\n",
    "Visualisation\n",
    "</h1>"
   ]
  },
  {
   "cell_type": "code",
   "execution_count": 16,
   "metadata": {},
   "outputs": [
    {
     "data": {
      "image/png": "[encoded data removed]",
      "text/plain": [
       "<Figure size 432x288 with 1 Axes>"
      ]
     },
     "metadata": {
      "needs_background": "light"
     },
     "output_type": "display_data"
    }
   ],
   "source": [
    "import numpy as np\n",
    "import matplotlib.pyplot as plt\n",
    "from sklearn import svm\n",
    "from sklearn.datasets import make_blobs\n",
    "\n",
    "# we create 40 separable points\n",
    "X, y = make_blobs(n_samples=40, centers=2, random_state=6)\n",
    "\n",
    "# fit the model, don't regularize for illustration purposes\n",
    "clf = svm.SVC(kernel=\"linear\", C=1000)\n",
    "clf.fit(X, y)\n",
    "\n",
    "# plot the data points\n",
    "plt.scatter(X[:, 0], X[:, 1], c=y, s=30, cmap=plt.cm.Paired)\n",
    "\n",
    "# plot the decision function\n",
    "ax = plt.gca()\n",
    "xlim = ax.get_xlim()\n",
    "ylim = ax.get_ylim()\n",
    "\n",
    "# create grid to evaluate model\n",
    "xx = np.linspace(xlim[0], xlim[1], 30)\n",
    "yy = np.linspace(ylim[0], ylim[1], 30)\n",
    "YY, XX = np.meshgrid(yy, xx)\n",
    "xy = np.vstack([XX.ravel(), YY.ravel()]).T\n",
    "Z = clf.decision_function(xy).reshape(XX.shape)\n",
    "\n",
    "# plot decision boundary and margins\n",
    "ax.contour(\n",
    "    XX,\n",
    "    YY,\n",
    "    Z,\n",
    "    colors=\"k\",\n",
    "    levels=[-1, 0, 1],\n",
    "    alpha=0.5,\n",
    "    linestyles=[\"--\", \"-\", \"--\"],\n",
    ")\n",
    "\n",
    "# plot support vectors\n",
    "ax.scatter(\n",
    "    clf.support_vectors_[:, 0],\n",
    "    clf.support_vectors_[:, 1],\n",
    "    s=100,\n",
    "    linewidth=1,\n",
    "    facecolors=\"none\",\n",
    "    edgecolors=\"k\",\n",
    ")\n",
    "\n",
    "plt.show()"
   ]
  },
  {
   "cell_type": "code",
   "execution_count": 17,
   "metadata": {},
   "outputs": [
    {
     "data": {
      "image/png": "[encoded data removed]",
      "text/plain": [
       "<Figure size 720x576 with 3 Axes>"
      ]
     },
     "metadata": {
      "needs_background": "light"
     },
     "output_type": "display_data"
    }
   ],
   "source": [
    "# SVM avec noyau linéaire\n",
    "clf_linear = svm.SVC(kernel=\"linear\")\n",
    "clf_linear.fit(X1, y1)\n",
    "y_pred_linear = clf_linear.predict(X_test1)\n",
    "\n",
    "# SVM avec noyau polynomial\n",
    "clf_poly = svm.SVC(kernel=\"poly\", degree=3)\n",
    "clf_poly.fit(X1, y1)\n",
    "y_pred_poly = clf_poly.predict(X_test1)\n",
    "\n",
    "# SVM avec noyau RBF\n",
    "clf_rbf = svm.SVC(kernel=\"rbf\")\n",
    "clf_rbf.fit(X1, y1)\n",
    "y_pred_rbf = clf_rbf.predict(X_test1)\n",
    "\n",
    "# Calcul de la précision de chaque modèle\n",
    "acc_linear = accuracy_score(Lab_reels1, y_pred_linear)\n",
    "acc_poly = accuracy_score(Lab_reels1, y_pred_poly)\n",
    "acc_rbf = accuracy_score(Lab_reels1, y_pred_rbf)\n",
    "\n",
    "# Affichage des résultats\n",
    "plt.figure(figsize=(10, 8))\n",
    "\n",
    "# Noyau linéaire\n",
    "plt.subplot(2, 2, 1)\n",
    "plt.scatter(np.array(X1)[:, 0], np.array(X1)[:, 1], c=y1, cmap=plt.cm.Paired)\n",
    "plt.scatter(np.array(X_test1)[:, 0], np.array(X_test1)[:, 1], c=y_pred_linear, marker='x', cmap=plt.cm.Paired)\n",
    "plt.title(f\"Noyau linéaire\\nPrécision : {acc_linear:.2f}\")\n",
    "\n",
    "# Noyau polynomial\n",
    "plt.subplot(2, 2, 2)\n",
    "plt.scatter(np.array(X1)[:, 0], np.array(X1)[:, 1], c=y1, cmap=plt.cm.Paired)\n",
    "plt.scatter(np.array(X_test1)[:, 0], np.array(X_test1)[:, 1], c=y_pred_poly, marker='x', cmap=plt.cm.Paired)\n",
    "plt.title(f\"Noyau polynomial\\nPrécision : {acc_poly:.2f}\")\n",
    "\n",
    "# Noyau RBF\n",
    "plt.subplot(2, 2, 3)\n",
    "plt.scatter(np.array(X1)[:, 0], np.array(X1)[:, 1], c=y1, cmap=plt.cm.Paired)\n",
    "plt.scatter(np.array(X_test1)[:, 0], np.array(X_test1)[:, 1], c=y_pred_rbf, marker='x', cmap=plt.cm.Paired)\n",
    "plt.title(f\"Noyau RBF\\nPrécision : {acc_rbf:.2f}\")\n",
    "\n",
    "plt.tight_layout()\n",
    "plt.show()"
   ]
  },
  {
   "cell_type": "code",
   "execution_count": 18,
   "metadata": {},
   "outputs": [
    {
     "data": {
      "image/png": "[encoded data removed]",
      "text/plain": [
       "<Figure size 720x576 with 3 Axes>"
      ]
     },
     "metadata": {
      "needs_background": "light"
     },
     "output_type": "display_data"
    }
   ],
   "source": [
    "# SVM avec noyau linéaire\n",
    "clf_linear = svm.SVC(kernel=\"linear\")\n",
    "clf_linear.fit(X2, y2)\n",
    "y_pred_linear = clf_linear.predict(X_test2)\n",
    "\n",
    "# SVM avec noyau polynomial\n",
    "clf_poly = svm.SVC(kernel=\"poly\", degree=3)\n",
    "clf_poly.fit(X2, y2)\n",
    "y_pred_poly = clf_poly.predict(X_test2)\n",
    "\n",
    "# SVM avec noyau RBF\n",
    "clf_rbf = svm.SVC(kernel=\"rbf\")\n",
    "clf_rbf.fit(X2, y2)\n",
    "y_pred_rbf = clf_rbf.predict(X_test2)\n",
    "\n",
    "# Calcul de la précision de chaque modèle\n",
    "acc_linear = accuracy_score(Lab_reels2, y_pred_linear)\n",
    "acc_poly = accuracy_score(Lab_reels2, y_pred_poly)\n",
    "acc_rbf = accuracy_score(Lab_reels2, y_pred_rbf)\n",
    "\n",
    "# Affichage des résultats\n",
    "plt.figure(figsize=(10, 8))\n",
    "\n",
    "# Noyau linéaire\n",
    "plt.subplot(2, 2, 1)\n",
    "plt.scatter(np.array(X2)[:, 0], np.array(X2)[:, 1], c=y2, cmap=plt.cm.Paired)\n",
    "plt.scatter(np.array(X_test2)[:, 0], np.array(X_test2)[:, 1], c=y_pred_linear, marker='x', cmap=plt.cm.Paired)\n",
    "plt.title(f\"Noyau linéaire\\nPrécision : {acc_linear:.2f}\")\n",
    "\n",
    "# Noyau polynomial\n",
    "plt.subplot(2, 2, 2)\n",
    "plt.scatter(np.array(X2)[:, 0], np.array(X2)[:, 1], c=y2, cmap=plt.cm.Paired)\n",
    "plt.scatter(np.array(X_test2)[:, 0], np.array(X_test2)[:, 1], c=y_pred_poly, marker='x', cmap=plt.cm.Paired)\n",
    "plt.title(f\"Noyau polynomial\\nPrécision : {acc_poly:.2f}\")\n",
    "\n",
    "# Noyau RBF\n",
    "plt.subplot(2, 2, 3)\n",
    "plt.scatter(np.array(X2)[:, 0], np.array(X2)[:, 1], c=y2, cmap=plt.cm.Paired)\n",
    "plt.scatter(np.array(X_test2)[:, 0], np.array(X_test2)[:, 1], c=y_pred_rbf, marker='x', cmap=plt.cm.Paired)\n",
    "plt.title(f\"Noyau RBF\\nPrécision : {acc_rbf:.2f}\")\n",
    "\n",
    "plt.tight_layout()\n",
    "plt.show()"
   ]
  },
  {
   "cell_type": "code",
   "execution_count": 19,
   "metadata": {},
   "outputs": [
    {
     "data": {
      "image/png": "[encoded data removed]",
      "text/plain": [
       "<Figure size 720x576 with 3 Axes>"
      ]
     },
     "metadata": {
      "needs_background": "light"
     },
     "output_type": "display_data"
    }
   ],
   "source": [
    "# SVM avec noyau linéaire\n",
    "clf_linear = svm.SVC(kernel=\"linear\")\n",
    "clf_linear.fit(X3, y3)\n",
    "y_pred_linear = clf_linear.predict(X_test3)\n",
    "\n",
    "# SVM avec noyau polynomial\n",
    "clf_poly = svm.SVC(kernel=\"poly\", degree=3)\n",
    "clf_poly.fit(X3, y3)\n",
    "y_pred_poly = clf_poly.predict(X_test3)\n",
    "\n",
    "# SVM avec noyau RBF\n",
    "clf_rbf = svm.SVC(kernel=\"rbf\")\n",
    "clf_rbf.fit(X3, y3)\n",
    "y_pred_rbf = clf_rbf.predict(X_test3)\n",
    "\n",
    "# Calcul de la précision de chaque modèle\n",
    "acc_linear = accuracy_score(Lab_reels3, y_pred_linear)\n",
    "acc_poly = accuracy_score(Lab_reels3, y_pred_poly)\n",
    "acc_rbf = accuracy_score(Lab_reels3, y_pred_rbf)\n",
    "\n",
    "# Affichage des résultats\n",
    "plt.figure(figsize=(10, 8))\n",
    "\n",
    "# Noyau linéaire\n",
    "plt.subplot(2, 2, 1)\n",
    "plt.scatter(np.array(X3)[:, 0], np.array(X3)[:, 1], c=y3, cmap=plt.cm.Paired)\n",
    "plt.scatter(np.array(X_test3)[:, 0], np.array(X_test3)[:, 1], c=y_pred_linear, marker='x', cmap=plt.cm.Paired)\n",
    "plt.title(f\"Noyau linéaire\\nPrécision : {acc_linear:.2f}\")\n",
    "\n",
    "# Noyau polynomial\n",
    "plt.subplot(2, 2, 2)\n",
    "plt.scatter(np.array(X3)[:, 0], np.array(X3)[:, 1], c=y3, cmap=plt.cm.Paired)\n",
    "plt.scatter(np.array(X_test3)[:, 0], np.array(X_test3)[:, 1], c=y_pred_poly, marker='x', cmap=plt.cm.Paired)\n",
    "plt.title(f\"Noyau polynomial\\nPrécision : {acc_poly:.2f}\")\n",
    "\n",
    "# Noyau RBF\n",
    "plt.subplot(2, 2, 3)\n",
    "plt.scatter(np.array(X3)[:, 0], np.array(X3)[:, 1], c=y3, cmap=plt.cm.Paired)\n",
    "plt.scatter(np.array(X_test3)[:, 0], np.array(X_test3)[:, 1], c=y_pred_rbf, marker='x', cmap=plt.cm.Paired)\n",
    "plt.title(f\"Noyau RBF\\nPrécision : {acc_rbf:.2f}\")\n",
    "\n",
    "plt.tight_layout()\n",
    "plt.show()"
   ]
  },
  {
   "attachments": {},
   "cell_type": "markdown",
   "metadata": {},
   "source": [
    "<h1 style=\"color:white; background-color: #ADD8E6; padding:15px; text-align: center;\">\n",
    "Data Exploitation\n",
    "</h1>"
   ]
  },
  {
   "cell_type": "code",
   "execution_count": 10,
   "metadata": {},
   "outputs": [
    {
     "data": {
      "text/html": [
       "<div>\n",
       "<style scoped>\n",
       "    .dataframe tbody tr th:only-of-type {\n",
       "        vertical-align: middle;\n",
       "    }\n",
       "\n",
       "    .dataframe tbody tr th {\n",
       "        vertical-align: top;\n",
       "    }\n",
       "\n",
       "    .dataframe thead th {\n",
       "        text-align: right;\n",
       "    }\n",
       "</style>\n",
       "<table border=\"1\" class=\"dataframe\">\n",
       "  <thead>\n",
       "    <tr style=\"text-align: right;\">\n",
       "      <th></th>\n",
       "      <th>3</th>\n",
       "      <th>4</th>\n",
       "      <th>5</th>\n",
       "      <th>6</th>\n",
       "      <th>7</th>\n",
       "      <th>8</th>\n",
       "    </tr>\n",
       "  </thead>\n",
       "  <tbody>\n",
       "    <tr>\n",
       "      <th>0</th>\n",
       "      <td>0</td>\n",
       "      <td>0</td>\n",
       "      <td>0</td>\n",
       "      <td>0</td>\n",
       "      <td>15</td>\n",
       "      <td>42</td>\n",
       "    </tr>\n",
       "    <tr>\n",
       "      <th>1</th>\n",
       "      <td>0</td>\n",
       "      <td>0</td>\n",
       "      <td>0</td>\n",
       "      <td>0</td>\n",
       "      <td>15</td>\n",
       "      <td>41</td>\n",
       "    </tr>\n",
       "    <tr>\n",
       "      <th>2</th>\n",
       "      <td>0</td>\n",
       "      <td>0</td>\n",
       "      <td>0</td>\n",
       "      <td>0</td>\n",
       "      <td>15</td>\n",
       "      <td>61</td>\n",
       "    </tr>\n",
       "    <tr>\n",
       "      <th>3</th>\n",
       "      <td>0</td>\n",
       "      <td>0</td>\n",
       "      <td>0</td>\n",
       "      <td>0</td>\n",
       "      <td>15</td>\n",
       "      <td>82</td>\n",
       "    </tr>\n",
       "    <tr>\n",
       "      <th>4</th>\n",
       "      <td>0</td>\n",
       "      <td>0</td>\n",
       "      <td>0</td>\n",
       "      <td>0</td>\n",
       "      <td>15</td>\n",
       "      <td>81</td>\n",
       "    </tr>\n",
       "    <tr>\n",
       "      <th>...</th>\n",
       "      <td>...</td>\n",
       "      <td>...</td>\n",
       "      <td>...</td>\n",
       "      <td>...</td>\n",
       "      <td>...</td>\n",
       "      <td>...</td>\n",
       "    </tr>\n",
       "    <tr>\n",
       "      <th>881</th>\n",
       "      <td>0</td>\n",
       "      <td>0</td>\n",
       "      <td>0</td>\n",
       "      <td>0</td>\n",
       "      <td>15</td>\n",
       "      <td>61</td>\n",
       "    </tr>\n",
       "    <tr>\n",
       "      <th>882</th>\n",
       "      <td>0</td>\n",
       "      <td>0</td>\n",
       "      <td>0</td>\n",
       "      <td>0</td>\n",
       "      <td>15</td>\n",
       "      <td>78</td>\n",
       "    </tr>\n",
       "    <tr>\n",
       "      <th>883</th>\n",
       "      <td>0</td>\n",
       "      <td>0</td>\n",
       "      <td>0</td>\n",
       "      <td>0</td>\n",
       "      <td>15</td>\n",
       "      <td>86</td>\n",
       "    </tr>\n",
       "    <tr>\n",
       "      <th>884</th>\n",
       "      <td>0</td>\n",
       "      <td>0</td>\n",
       "      <td>0</td>\n",
       "      <td>0</td>\n",
       "      <td>15</td>\n",
       "      <td>76</td>\n",
       "    </tr>\n",
       "    <tr>\n",
       "      <th>885</th>\n",
       "      <td>0</td>\n",
       "      <td>0</td>\n",
       "      <td>0</td>\n",
       "      <td>0</td>\n",
       "      <td>15</td>\n",
       "      <td>81</td>\n",
       "    </tr>\n",
       "  </tbody>\n",
       "</table>\n",
       "<p>886 rows × 6 columns</p>\n",
       "</div>"
      ],
      "text/plain": [
       "     3  4  5  6   7   8\n",
       "0    0  0  0  0  15  42\n",
       "1    0  0  0  0  15  41\n",
       "2    0  0  0  0  15  61\n",
       "3    0  0  0  0  15  82\n",
       "4    0  0  0  0  15  81\n",
       "..  .. .. .. ..  ..  ..\n",
       "881  0  0  0  0  15  61\n",
       "882  0  0  0  0  15  78\n",
       "883  0  0  0  0  15  86\n",
       "884  0  0  0  0  15  76\n",
       "885  0  0  0  0  15  81\n",
       "\n",
       "[886 rows x 6 columns]"
      ]
     },
     "metadata": {},
     "output_type": "display_data"
    }
   ],
   "source": [
    "data = pd.read_csv(\"./Data/Donnees_Televigilance_09-10-08.txt\", sep=\" \", header=None)\n",
    "data = data.drop([0, 1, 2], axis=1)\n",
    "display(data)"
   ]
  },
  {
   "cell_type": "code",
   "execution_count": 11,
   "metadata": {},
   "outputs": [
    {
     "ename": "KeyError",
     "evalue": "\"None of [Index(['Appui', 'Appel', 'Colonne6', 'Nuit', 'Pouls'], dtype='object')] are in the [columns]\"",
     "output_type": "error",
     "traceback": [
      "\u001b[1;31m---------------------------------------------------------------------------\u001b[0m",
      "\u001b[1;31mKeyError\u001b[0m                                  Traceback (most recent call last)",
      "\u001b[1;32m~\\AppData\\Local\\Temp/ipykernel_372/2761052914.py\u001b[0m in \u001b[0;36m<module>\u001b[1;34m\u001b[0m\n\u001b[1;32m----> 1\u001b[1;33m \u001b[0mX\u001b[0m \u001b[1;33m=\u001b[0m \u001b[0mdata\u001b[0m\u001b[1;33m[\u001b[0m\u001b[1;33m[\u001b[0m\u001b[1;34m'Appui'\u001b[0m\u001b[1;33m,\u001b[0m \u001b[1;34m'Appel'\u001b[0m\u001b[1;33m,\u001b[0m \u001b[1;34m'Colonne6'\u001b[0m\u001b[1;33m,\u001b[0m \u001b[1;34m'Nuit'\u001b[0m\u001b[1;33m,\u001b[0m \u001b[1;34m'Pouls'\u001b[0m\u001b[1;33m]\u001b[0m\u001b[1;33m]\u001b[0m\u001b[1;33m\u001b[0m\u001b[1;33m\u001b[0m\u001b[0m\n\u001b[0m\u001b[0;32m      2\u001b[0m \u001b[0mY\u001b[0m \u001b[1;33m=\u001b[0m \u001b[0mdata\u001b[0m\u001b[1;33m[\u001b[0m\u001b[1;34m'Cible'\u001b[0m\u001b[1;33m]\u001b[0m\u001b[1;33m\u001b[0m\u001b[1;33m\u001b[0m\u001b[0m\n\u001b[0;32m      3\u001b[0m \u001b[1;33m\u001b[0m\u001b[0m\n\u001b[0;32m      4\u001b[0m \u001b[1;32mfrom\u001b[0m \u001b[0msklearn\u001b[0m\u001b[1;33m.\u001b[0m\u001b[0mmodel_selection\u001b[0m \u001b[1;32mimport\u001b[0m \u001b[0mtrain_test_split\u001b[0m\u001b[1;33m\u001b[0m\u001b[1;33m\u001b[0m\u001b[0m\n\u001b[0;32m      5\u001b[0m \u001b[0mX_train\u001b[0m\u001b[1;33m,\u001b[0m \u001b[0mX_test\u001b[0m\u001b[1;33m,\u001b[0m \u001b[0my_train\u001b[0m\u001b[1;33m,\u001b[0m \u001b[0my_test\u001b[0m \u001b[1;33m=\u001b[0m \u001b[0mtrain_test_split\u001b[0m\u001b[1;33m(\u001b[0m\u001b[0mX\u001b[0m\u001b[1;33m,\u001b[0m \u001b[0mY\u001b[0m\u001b[1;33m,\u001b[0m \u001b[0mtest_size\u001b[0m\u001b[1;33m=\u001b[0m\u001b[1;36m0.3\u001b[0m\u001b[1;33m)\u001b[0m\u001b[1;33m\u001b[0m\u001b[1;33m\u001b[0m\u001b[0m\n",
      "\u001b[1;32mc:\\Users\\pierr\\anaconda3\\lib\\site-packages\\pandas\\core\\frame.py\u001b[0m in \u001b[0;36m__getitem__\u001b[1;34m(self, key)\u001b[0m\n\u001b[0;32m   3462\u001b[0m             \u001b[1;32mif\u001b[0m \u001b[0mis_iterator\u001b[0m\u001b[1;33m(\u001b[0m\u001b[0mkey\u001b[0m\u001b[1;33m)\u001b[0m\u001b[1;33m:\u001b[0m\u001b[1;33m\u001b[0m\u001b[1;33m\u001b[0m\u001b[0m\n\u001b[0;32m   3463\u001b[0m                 \u001b[0mkey\u001b[0m \u001b[1;33m=\u001b[0m \u001b[0mlist\u001b[0m\u001b[1;33m(\u001b[0m\u001b[0mkey\u001b[0m\u001b[1;33m)\u001b[0m\u001b[1;33m\u001b[0m\u001b[1;33m\u001b[0m\u001b[0m\n\u001b[1;32m-> 3464\u001b[1;33m             \u001b[0mindexer\u001b[0m \u001b[1;33m=\u001b[0m \u001b[0mself\u001b[0m\u001b[1;33m.\u001b[0m\u001b[0mloc\u001b[0m\u001b[1;33m.\u001b[0m\u001b[0m_get_listlike_indexer\u001b[0m\u001b[1;33m(\u001b[0m\u001b[0mkey\u001b[0m\u001b[1;33m,\u001b[0m \u001b[0maxis\u001b[0m\u001b[1;33m=\u001b[0m\u001b[1;36m1\u001b[0m\u001b[1;33m)\u001b[0m\u001b[1;33m[\u001b[0m\u001b[1;36m1\u001b[0m\u001b[1;33m]\u001b[0m\u001b[1;33m\u001b[0m\u001b[1;33m\u001b[0m\u001b[0m\n\u001b[0m\u001b[0;32m   3465\u001b[0m \u001b[1;33m\u001b[0m\u001b[0m\n\u001b[0;32m   3466\u001b[0m         \u001b[1;31m# take() does not accept boolean indexers\u001b[0m\u001b[1;33m\u001b[0m\u001b[1;33m\u001b[0m\u001b[0m\n",
      "\u001b[1;32mc:\\Users\\pierr\\anaconda3\\lib\\site-packages\\pandas\\core\\indexing.py\u001b[0m in \u001b[0;36m_get_listlike_indexer\u001b[1;34m(self, key, axis)\u001b[0m\n\u001b[0;32m   1312\u001b[0m             \u001b[0mkeyarr\u001b[0m\u001b[1;33m,\u001b[0m \u001b[0mindexer\u001b[0m\u001b[1;33m,\u001b[0m \u001b[0mnew_indexer\u001b[0m \u001b[1;33m=\u001b[0m \u001b[0max\u001b[0m\u001b[1;33m.\u001b[0m\u001b[0m_reindex_non_unique\u001b[0m\u001b[1;33m(\u001b[0m\u001b[0mkeyarr\u001b[0m\u001b[1;33m)\u001b[0m\u001b[1;33m\u001b[0m\u001b[1;33m\u001b[0m\u001b[0m\n\u001b[0;32m   1313\u001b[0m \u001b[1;33m\u001b[0m\u001b[0m\n\u001b[1;32m-> 1314\u001b[1;33m         \u001b[0mself\u001b[0m\u001b[1;33m.\u001b[0m\u001b[0m_validate_read_indexer\u001b[0m\u001b[1;33m(\u001b[0m\u001b[0mkeyarr\u001b[0m\u001b[1;33m,\u001b[0m \u001b[0mindexer\u001b[0m\u001b[1;33m,\u001b[0m \u001b[0maxis\u001b[0m\u001b[1;33m)\u001b[0m\u001b[1;33m\u001b[0m\u001b[1;33m\u001b[0m\u001b[0m\n\u001b[0m\u001b[0;32m   1315\u001b[0m \u001b[1;33m\u001b[0m\u001b[0m\n\u001b[0;32m   1316\u001b[0m         if needs_i8_conversion(ax.dtype) or isinstance(\n",
      "\u001b[1;32mc:\\Users\\pierr\\anaconda3\\lib\\site-packages\\pandas\\core\\indexing.py\u001b[0m in \u001b[0;36m_validate_read_indexer\u001b[1;34m(self, key, indexer, axis)\u001b[0m\n\u001b[0;32m   1372\u001b[0m                 \u001b[1;32mif\u001b[0m \u001b[0muse_interval_msg\u001b[0m\u001b[1;33m:\u001b[0m\u001b[1;33m\u001b[0m\u001b[1;33m\u001b[0m\u001b[0m\n\u001b[0;32m   1373\u001b[0m                     \u001b[0mkey\u001b[0m \u001b[1;33m=\u001b[0m \u001b[0mlist\u001b[0m\u001b[1;33m(\u001b[0m\u001b[0mkey\u001b[0m\u001b[1;33m)\u001b[0m\u001b[1;33m\u001b[0m\u001b[1;33m\u001b[0m\u001b[0m\n\u001b[1;32m-> 1374\u001b[1;33m                 \u001b[1;32mraise\u001b[0m \u001b[0mKeyError\u001b[0m\u001b[1;33m(\u001b[0m\u001b[1;34mf\"None of [{key}] are in the [{axis_name}]\"\u001b[0m\u001b[1;33m)\u001b[0m\u001b[1;33m\u001b[0m\u001b[1;33m\u001b[0m\u001b[0m\n\u001b[0m\u001b[0;32m   1375\u001b[0m \u001b[1;33m\u001b[0m\u001b[0m\n\u001b[0;32m   1376\u001b[0m             \u001b[0mnot_found\u001b[0m \u001b[1;33m=\u001b[0m \u001b[0mlist\u001b[0m\u001b[1;33m(\u001b[0m\u001b[0mensure_index\u001b[0m\u001b[1;33m(\u001b[0m\u001b[0mkey\u001b[0m\u001b[1;33m)\u001b[0m\u001b[1;33m[\u001b[0m\u001b[0mmissing_mask\u001b[0m\u001b[1;33m.\u001b[0m\u001b[0mnonzero\u001b[0m\u001b[1;33m(\u001b[0m\u001b[1;33m)\u001b[0m\u001b[1;33m[\u001b[0m\u001b[1;36m0\u001b[0m\u001b[1;33m]\u001b[0m\u001b[1;33m]\u001b[0m\u001b[1;33m.\u001b[0m\u001b[0munique\u001b[0m\u001b[1;33m(\u001b[0m\u001b[1;33m)\u001b[0m\u001b[1;33m)\u001b[0m\u001b[1;33m\u001b[0m\u001b[1;33m\u001b[0m\u001b[0m\n",
      "\u001b[1;31mKeyError\u001b[0m: \"None of [Index(['Appui', 'Appel', 'Colonne6', 'Nuit', 'Pouls'], dtype='object')] are in the [columns]\""
     ]
    }
   ],
   "source": [
    "X = data[['Appui', 'Appel', 'Colonne6', 'Nuit', 'Pouls']]\n",
    "Y = data['Cible']\n",
    "\n",
    "from sklearn.model_selection import train_test_split\n",
    "X_train, X_test, y_train, y_test = train_test_split(X, Y, test_size=0.3)\n",
    "\n",
    "model = svm.SVC(kernel='linear')\n",
    "model.fit(X_train, y_train)\n",
    "\n",
    "y_pred = model.predict(X_test)\n",
    "\n",
    "print(\"Accuracy:\", metrics.accuracy_score(y_test, y_pred))\n",
    "\n",
    "from sklearn.metrics import confusion_matrix\n",
    "import seaborn as sns\n",
    "\n",
    "sns.set(font_scale=1.2)\n",
    "\n",
    "cm = metrics.confusion_matrix(y_test, y_pred)\n",
    "\n",
    "plt.figure(figsize=(6,6))\n",
    "sns.heatmap(cm, annot=True, fmt='d', cmap='Blues', cbar=False, annot_kws={\"fontsize\":14})\n",
    "plt.xlabel('Predicted labels')\n",
    "plt.ylabel('True labels')\n",
    "plt.title('Confusion matrix')\n",
    "plt.show()"
   ]
  }
 ],
 "metadata": {
  "kernelspec": {
   "display_name": "base",
   "language": "python",
   "name": "python3"
  },
  "language_info": {
   "codemirror_mode": {
    "name": "ipython",
    "version": 3
   },
   "file_extension": ".py",
   "mimetype": "text/x-python",
   "name": "python",
   "nbconvert_exporter": "python",
   "pygments_lexer": "ipython3",
   "version": "3.9.7"
  },
  "orig_nbformat": 4
 },
 "nbformat": 4,
 "nbformat_minor": 2
}
